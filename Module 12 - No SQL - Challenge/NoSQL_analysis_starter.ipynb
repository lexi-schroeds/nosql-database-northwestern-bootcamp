{
 "cells": [
  {
   "cell_type": "markdown",
   "id": "9a57c4c6",
   "metadata": {},
   "source": [
    "# Eat Safe, Love"
   ]
  },
  {
   "cell_type": "markdown",
   "id": "064ef857",
   "metadata": {},
   "source": [
    "## Notebook Set Up"
   ]
  },
  {
   "cell_type": "code",
   "execution_count": 38,
   "id": "3ecdd008",
   "metadata": {},
   "outputs": [],
   "source": [
    "from pymongo import MongoClient\n",
    "import pandas as pd\n",
    "from pprint import pprint"
   ]
  },
  {
   "cell_type": "code",
   "execution_count": 39,
   "id": "59390c4a",
   "metadata": {},
   "outputs": [],
   "source": [
    "# Create an instance of MongoClient\n",
    "mongo = MongoClient(port=27017)"
   ]
  },
  {
   "cell_type": "code",
   "execution_count": 40,
   "id": "71e373c1",
   "metadata": {},
   "outputs": [],
   "source": [
    "# assign the uk_food database to a variable name\n",
    "db = mongo['uk_food']"
   ]
  },
  {
   "cell_type": "code",
   "execution_count": 41,
   "id": "18ab463c",
   "metadata": {},
   "outputs": [
    {
     "name": "stdout",
     "output_type": "stream",
     "text": [
      "Collections in the database:\n",
      "establishments\n"
     ]
    }
   ],
   "source": [
    "# review the collections in our database\n",
    "# List all collections in the database\n",
    "collection_names = db.list_collection_names()\n",
    "\n",
    "print(\"Collections in the database:\")\n",
    "for collection_name in collection_names:\n",
    "    print(collection_name)"
   ]
  },
  {
   "cell_type": "code",
   "execution_count": 42,
   "id": "11c9f11b",
   "metadata": {},
   "outputs": [],
   "source": [
    "# assign the collection to a variable\n",
    "establishments = db['establishments']"
   ]
  },
  {
   "cell_type": "markdown",
   "id": "d5671434",
   "metadata": {},
   "source": [
    "## Part 3: Exploratory Analysis\n",
    "Unless otherwise stated, for each question: \n",
    "* Use `count_documents` to display the number of documents contained in the result.\n",
    "* Display the first document in the results using `pprint`.\n",
    "* Convert the result to a Pandas DataFrame, print the number of rows in the DataFrame, and display the first 10 rows."
   ]
  },
  {
   "cell_type": "markdown",
   "id": "314bd884",
   "metadata": {},
   "source": [
    "### 1. Which establishments have a hygiene score equal to 20?"
   ]
  },
  {
   "cell_type": "code",
   "execution_count": 43,
   "id": "c2da7648",
   "metadata": {},
   "outputs": [
    {
     "name": "stdout",
     "output_type": "stream",
     "text": [
      "Number of documents with a hygiene score of 20: 0\n",
      "No documents found with a hygiene score of 20.\n"
     ]
    }
   ],
   "source": [
    "# Query to find establishments with a hygiene score of 20\n",
    "query = { \"scores.Hygiene\": 20 }\n",
    "\n",
    "# Find establishments with the specified hygiene score\n",
    "result = db.establishments.find(query)\n",
    "\n",
    "# Use count_documents to display the number of documents in the result\n",
    "num_documents = db.establishments.count_documents(query)\n",
    "print(\"Number of documents with a hygiene score of 20:\", num_documents)\n",
    "\n",
    "# Display the first document in the results using pprint\n",
    "from pprint import pprint\n",
    "first_document = result[0] if num_documents > 0 else None\n",
    "if first_document:\n",
    "    print(\"First document with a hygiene score of 20:\")\n",
    "    pprint(first_document)\n",
    "else:\n",
    "    print(\"No documents found with a hygiene score of 20.\")\n"
   ]
  },
  {
   "cell_type": "code",
   "execution_count": 44,
   "id": "a6e5cece",
   "metadata": {},
   "outputs": [
    {
     "name": "stdout",
     "output_type": "stream",
     "text": [
      "Number of rows in the DataFrame: 0\n",
      "First 10 rows of the DataFrame:\n",
      "Empty DataFrame\n",
      "Columns: []\n",
      "Index: []\n"
     ]
    }
   ],
   "source": [
    "# Convert the MongoDB query result to a Pandas DataFrame\n",
    "df = pd.DataFrame(list(result))\n",
    "\n",
    "# Display the number of rows in the DataFrame\n",
    "num_rows = len(df)\n",
    "print(\"Number of rows in the DataFrame:\", num_rows)\n",
    "\n",
    "# Display the first 10 rows of the DataFrame\n",
    "print(\"First 10 rows of the DataFrame:\")\n",
    "print(df.head(10))\n"
   ]
  },
  {
   "cell_type": "markdown",
   "id": "0ef4395a",
   "metadata": {},
   "source": [
    "### 2. Which establishments in London have a `RatingValue` greater than or equal to 4?"
   ]
  },
  {
   "cell_type": "code",
   "execution_count": 45,
   "id": "93c63829",
   "metadata": {},
   "outputs": [
    {
     "name": "stdout",
     "output_type": "stream",
     "text": [
      "Number of documents with London as Local Authority and RatingValue >= 4: 0\n",
      "No documents found with London as Local Authority and RatingValue >= 4.\n"
     ]
    }
   ],
   "source": [
    "# Query to find establishments with London as the Local Authority and RatingValue >= 4\n",
    "query = { \"LocalAuthorityName\": \"London\", \"RatingValue\": { \"$gte\": 4 } }\n",
    "\n",
    "# Find establishments with the specified criteria\n",
    "result = db.establishments.find(query)\n",
    "\n",
    "# Use count_documents to display the number of documents in the result\n",
    "num_documents = db.establishments.count_documents(query)\n",
    "print(\"Number of documents with London as Local Authority and RatingValue >= 4:\", num_documents)\n",
    "\n",
    "# Display the first document in the results using pprint\n",
    "from pprint import pprint\n",
    "first_document = result[0] if num_documents > 0 else None\n",
    "if first_document:\n",
    "    print(\"First document with London as Local Authority and RatingValue >= 4:\")\n",
    "    pprint(first_document)\n",
    "else:\n",
    "    print(\"No documents found with London as Local Authority and RatingValue >= 4.\")\n",
    "\n"
   ]
  },
  {
   "cell_type": "code",
   "execution_count": 46,
   "id": "07e24ccb",
   "metadata": {},
   "outputs": [
    {
     "name": "stdout",
     "output_type": "stream",
     "text": [
      "Number of rows in the DataFrame: 0\n",
      "First 10 rows of the DataFrame:\n",
      "Empty DataFrame\n",
      "Columns: []\n",
      "Index: []\n"
     ]
    }
   ],
   "source": [
    "# Convert the MongoDB query result to a Pandas DataFrame\n",
    "df = pd.DataFrame(list(result))\n",
    "\n",
    "# Display the number of rows in the DataFrame\n",
    "num_rows = len(df)\n",
    "print(\"Number of rows in the DataFrame:\", num_rows)\n",
    "\n",
    "# Display the first 10 rows of the DataFrame\n",
    "print(\"First 10 rows of the DataFrame:\")\n",
    "print(df.head(10))\n"
   ]
  },
  {
   "attachments": {},
   "cell_type": "markdown",
   "id": "4e570caf",
   "metadata": {},
   "source": [
    "### 3. What are the top 5 establishments with a `RatingValue` rating value of 5, sorted by lowest hygiene score, nearest to the new restaurant added, \"Penang Flavours\"?"
   ]
  },
  {
   "cell_type": "code",
   "execution_count": 47,
   "id": "7f599f3d",
   "metadata": {},
   "outputs": [],
   "source": [
    "# Define the degree search value\n",
    "degree_search = 0.01\n",
    "\n",
    "# Specify the latitude and longitude values\n",
    "latitude = 51.490142\n",
    "longitude = 0.08384\n",
    "\n",
    "# Construct the query to search within the specified range and filter by RatingValue\n",
    "query = {\n",
    "    \"geocode.latitude\": { \"$gte\": latitude - degree_search, \"$lte\": latitude + degree_search },\n",
    "    \"geocode.longitude\": { \"$gte\": longitude - degree_search, \"$lte\": longitude + degree_search },\n",
    "    \"RatingValue\": 5\n",
    "}\n",
    "\n",
    "# Specify the sort criteria by hygiene score\n",
    "sort = [(\"scores.Hygiene\", 1)]  # 1 for ascending order, -1 for descending order\n",
    "\n",
    "# Limit the number of results to display\n",
    "limit = 10\n",
    "\n",
    "# Find establishments based on the query, sort, and limit\n",
    "results = db.establishments.find(query).sort(sort).limit(limit)\n",
    "\n",
    "# Print the results\n",
    "for result in results:\n",
    "    print(result)\n"
   ]
  },
  {
   "cell_type": "code",
   "execution_count": 48,
   "id": "a6ad16f7",
   "metadata": {},
   "outputs": [
    {
     "name": "stdout",
     "output_type": "stream",
     "text": [
      "Empty DataFrame\n",
      "Columns: []\n",
      "Index: []\n"
     ]
    }
   ],
   "source": [
    "# Convert result to Pandas DataFrame\n",
    "# Convert the MongoDB query result to a Pandas DataFrame\n",
    "df = pd.DataFrame(list(results))\n",
    "\n",
    "# Display the DataFrame\n",
    "print(df)"
   ]
  },
  {
   "cell_type": "markdown",
   "id": "67281254",
   "metadata": {},
   "source": [
    "### 4. How many establishments in each Local Authority area have a hygiene score of 0?"
   ]
  },
  {
   "cell_type": "code",
   "execution_count": 49,
   "id": "4eeb227e",
   "metadata": {},
   "outputs": [
    {
     "name": "stdout",
     "output_type": "stream",
     "text": [
      "Number of documents in the result: 0\n",
      "First 10 results:\n"
     ]
    }
   ],
   "source": [
    "# Define the aggregation pipeline stages\n",
    "pipeline = [\n",
    "    { \"$match\": { \"scores.Hygiene\": 0 } },\n",
    "    { \"$group\": { \"_id\": \"$LocalAuthorityName\", \"count\": { \"$sum\": 1 } } },\n",
    "    { \"$sort\": { \"count\": -1 } },\n",
    "    { \"$limit\": 10 }  # Limit to the first 10 results\n",
    "]\n",
    "\n",
    "# Execute the aggregation pipeline\n",
    "result = list(db.establishments.aggregate(pipeline))\n",
    "\n",
    "# Print the number of documents in the result\n",
    "num_documents = len(result)\n",
    "print(\"Number of documents in the result:\", num_documents)\n",
    "\n",
    "# Print the first 10 results\n",
    "print(\"First 10 results:\")\n",
    "for i, doc in enumerate(result[:10]):\n",
    "    print(f\"Result {i+1}: {doc}\")\n"
   ]
  },
  {
   "cell_type": "code",
   "execution_count": 50,
   "id": "d8aab364",
   "metadata": {},
   "outputs": [
    {
     "name": "stdout",
     "output_type": "stream",
     "text": [
      "Number of rows in the DataFrame: 0\n",
      "First 10 rows of the DataFrame:\n",
      "Empty DataFrame\n",
      "Columns: []\n",
      "Index: []\n"
     ]
    }
   ],
   "source": [
    "# Convert the MongoDB aggregation pipeline result to a Pandas DataFrame\n",
    "df = pd.DataFrame(result)\n",
    "\n",
    "# Display the number of rows in the DataFrame\n",
    "num_rows = len(df)\n",
    "print(\"Number of rows in the DataFrame:\", num_rows)\n",
    "\n",
    "# Display the first 10 rows of the DataFrame\n",
    "print(\"First 10 rows of the DataFrame:\")\n",
    "print(df.head(10))\n"
   ]
  }
 ],
 "metadata": {
  "kernelspec": {
   "display_name": "Python 3 (ipykernel)",
   "language": "python",
   "name": "python3"
  },
  "language_info": {
   "codemirror_mode": {
    "name": "ipython",
    "version": 3
   },
   "file_extension": ".py",
   "mimetype": "text/x-python",
   "name": "python",
   "nbconvert_exporter": "python",
   "pygments_lexer": "ipython3",
   "version": "3.11.7"
  }
 },
 "nbformat": 4,
 "nbformat_minor": 5
}
